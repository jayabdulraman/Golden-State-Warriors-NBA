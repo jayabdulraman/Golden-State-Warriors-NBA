{
 "cells": [
  {
   "cell_type": "markdown",
   "id": "e961c871-1962-4b99-9a27-6eabf8d14fd5",
   "metadata": {},
   "source": [
    "#### What is Jupyter Notebook?\n",
    "\n",
    "The Jupyter Notebook is an open source web-based integrated development environment that you can use to create and share documents that contain live code, equations, visualizations, and text."
   ]
  },
  {
   "cell_type": "code",
   "execution_count": null,
   "id": "e3900a96-5620-4614-96d3-2069b2d5ddd6",
   "metadata": {},
   "outputs": [],
   "source": [
    "# change column headers into lowercase\n",
    "df.columns = map(str.lower, df.columns)\n",
    "\n",
    "# replace spaces in column headers with -\n",
    "df.columns.str.replace(' ', '_')\n",
    "\n",
    "# remove characters in rows\n",
    "df.column = df.column.str.lstrip('@vs ')\n",
    "\n",
    "# split column values into two columns\n",
    "df.column.str.split('  ', n=-1, expand=True)\n",
    "\n",
    "# drop unnecessary columns\n",
    "df.drop(columns['', ''], axis=1, inplace=True)"
   ]
  }
 ],
 "metadata": {
  "kernelspec": {
   "display_name": "Python 3",
   "language": "python",
   "name": "python3"
  },
  "language_info": {
   "codemirror_mode": {
    "name": "ipython",
    "version": 3
   },
   "file_extension": ".py",
   "mimetype": "text/x-python",
   "name": "python",
   "nbconvert_exporter": "python",
   "pygments_lexer": "ipython3",
   "version": "3.8.8"
  }
 },
 "nbformat": 4,
 "nbformat_minor": 5
}
