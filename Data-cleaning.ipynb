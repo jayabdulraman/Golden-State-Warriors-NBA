{
 "cells": [
  {
   "cell_type": "markdown",
   "id": "6275fdb3-3948-4099-bbd5-3dfc6ecd4e2b",
   "metadata": {},
   "source": [
    "# Data Cleaning\n",
    "**Golden State Warriors NBA Data | 2010 to 2022**"
   ]
  },
  {
   "cell_type": "code",
   "execution_count": 25,
   "id": "57b70461-0e3b-48ed-9709-7440429fd7fb",
   "metadata": {},
   "outputs": [],
   "source": [
    "# import libraries\n",
    "import pandas as pd\n",
    "import numpy as np"
   ]
  },
  {
   "cell_type": "code",
   "execution_count": 26,
   "id": "1f8fa776-c1d9-42ec-ba39-34a656fd0772",
   "metadata": {},
   "outputs": [
    {
     "data": {
      "text/html": [
       "<div>\n",
       "<style scoped>\n",
       "    .dataframe tbody tr th:only-of-type {\n",
       "        vertical-align: middle;\n",
       "    }\n",
       "\n",
       "    .dataframe tbody tr th {\n",
       "        vertical-align: top;\n",
       "    }\n",
       "\n",
       "    .dataframe thead th {\n",
       "        text-align: right;\n",
       "    }\n",
       "</style>\n",
       "<table border=\"1\" class=\"dataframe\">\n",
       "  <thead>\n",
       "    <tr style=\"text-align: right;\">\n",
       "      <th></th>\n",
       "      <th>DATE</th>\n",
       "      <th>OPPONENT</th>\n",
       "      <th>RESULT</th>\n",
       "      <th>W-L</th>\n",
       "      <th>Hi Points</th>\n",
       "      <th>Hi Rebounds</th>\n",
       "      <th>Hi Assists</th>\n",
       "      <th>season</th>\n",
       "      <th>post_season_qualification</th>\n",
       "    </tr>\n",
       "  </thead>\n",
       "  <tbody>\n",
       "    <tr>\n",
       "      <th>0</th>\n",
       "      <td>Thu, 28 Oct</td>\n",
       "      <td>vs Houston</td>\n",
       "      <td>W132-128</td>\n",
       "      <td>1-0</td>\n",
       "      <td>Ellis  46</td>\n",
       "      <td>Lee  15</td>\n",
       "      <td>Curry  11</td>\n",
       "      <td>2010/2011</td>\n",
       "      <td>not qualified</td>\n",
       "    </tr>\n",
       "    <tr>\n",
       "      <th>1</th>\n",
       "      <td>Sat, 30 Oct</td>\n",
       "      <td>vs LA</td>\n",
       "      <td>W109-91</td>\n",
       "      <td>2-0</td>\n",
       "      <td>Wright  24</td>\n",
       "      <td>Lee  12</td>\n",
       "      <td>Ellis  11</td>\n",
       "      <td>2010/2011</td>\n",
       "      <td>not qualified</td>\n",
       "    </tr>\n",
       "    <tr>\n",
       "      <th>2</th>\n",
       "      <td>Mon, 1 Nov</td>\n",
       "      <td>@ Los Angeles</td>\n",
       "      <td>L107-83</td>\n",
       "      <td>2-1</td>\n",
       "      <td>Ellis  20</td>\n",
       "      <td>Carney  8</td>\n",
       "      <td>Biedrins  4</td>\n",
       "      <td>2010/2011</td>\n",
       "      <td>not qualified</td>\n",
       "    </tr>\n",
       "    <tr>\n",
       "      <th>3</th>\n",
       "      <td>Thu, 4 Nov</td>\n",
       "      <td>vs Memphis</td>\n",
       "      <td>W115-109</td>\n",
       "      <td>3-1</td>\n",
       "      <td>Ellis  39</td>\n",
       "      <td>Lee  16</td>\n",
       "      <td>Ellis  8</td>\n",
       "      <td>2010/2011</td>\n",
       "      <td>not qualified</td>\n",
       "    </tr>\n",
       "    <tr>\n",
       "      <th>4</th>\n",
       "      <td>Sat, 6 Nov</td>\n",
       "      <td>vs Utah</td>\n",
       "      <td>W85-78</td>\n",
       "      <td>4-1</td>\n",
       "      <td>Ellis  23</td>\n",
       "      <td>Biedrins  20</td>\n",
       "      <td>Curry  6</td>\n",
       "      <td>2010/2011</td>\n",
       "      <td>not qualified</td>\n",
       "    </tr>\n",
       "  </tbody>\n",
       "</table>\n",
       "</div>"
      ],
      "text/plain": [
       "          DATE       OPPONENT    RESULT  W-L   Hi Points   Hi Rebounds  \\\n",
       "0  Thu, 28 Oct     vs Houston  W132-128  1-0   Ellis  46       Lee  15   \n",
       "1  Sat, 30 Oct          vs LA   W109-91  2-0  Wright  24       Lee  12   \n",
       "2   Mon, 1 Nov  @ Los Angeles   L107-83  2-1   Ellis  20     Carney  8   \n",
       "3   Thu, 4 Nov     vs Memphis  W115-109  3-1   Ellis  39       Lee  16   \n",
       "4   Sat, 6 Nov        vs Utah    W85-78  4-1   Ellis  23  Biedrins  20   \n",
       "\n",
       "    Hi Assists     season post_season_qualification  \n",
       "0    Curry  11  2010/2011             not qualified  \n",
       "1    Ellis  11  2010/2011             not qualified  \n",
       "2  Biedrins  4  2010/2011             not qualified  \n",
       "3     Ellis  8  2010/2011             not qualified  \n",
       "4     Curry  6  2010/2011             not qualified  "
      ]
     },
     "execution_count": 26,
     "metadata": {},
     "output_type": "execute_result"
    }
   ],
   "source": [
    "# read data\n",
    "nba = pd.read_csv('data/golden_state_nba_raw.csv')\n",
    "nba.head()"
   ]
  },
  {
   "cell_type": "markdown",
   "id": "85e53558-2416-4605-b1dd-fa75c38f1f58",
   "metadata": {},
   "source": [
    "## Assessing Data\n",
    "\n",
    "**Detect Issues**"
   ]
  },
  {
   "cell_type": "code",
   "execution_count": null,
   "id": "ef5fa94a-c1aa-404f-9179-836152c1a102",
   "metadata": {},
   "outputs": [],
   "source": []
  },
  {
   "cell_type": "code",
   "execution_count": 27,
   "id": "f1dd2282-49fe-45ff-a139-abbe33d79ea3",
   "metadata": {},
   "outputs": [],
   "source": [
    "# make a copy of dataframe for cleaning\n",
    "nba_copy = nba.copy()"
   ]
  },
  {
   "cell_type": "markdown",
   "id": "cf00eb60-bfa9-4198-b7cf-9e275b254c35",
   "metadata": {},
   "source": [
    "## Document Issues\n",
    "\n",
    "#### Quality Issues:\n",
    "- transform column names to lowercase and remove empty spaces\n",
    "- remove characters like vs@ and empty spaces\n",
    "\n",
    "#### Tidy Issues:\n",
    "- split Hi Points into two columns\n",
    "- drop unnecessary columns"
   ]
  },
  {
   "cell_type": "markdown",
   "id": "f8cdc29c-1616-49d9-ba75-48887bfd4e0d",
   "metadata": {},
   "source": [
    "## Data Cleaning"
   ]
  },
  {
   "cell_type": "markdown",
   "id": "c10291cd-17c8-412b-800b-786fd9c64973",
   "metadata": {},
   "source": [
    "### Quality Issue #1\n",
    "\n",
    "#### Define:\n",
    "\n",
    "- transform column names to lowercase and remove empty spaces\n",
    "\n",
    "#### Code:"
   ]
  },
  {
   "cell_type": "code",
   "execution_count": 29,
   "id": "05929e36-102d-4edd-bec7-852c6275f62a",
   "metadata": {},
   "outputs": [],
   "source": [
    "nba_copy.columns = map(str.lower, nba_copy.columns)\n",
    "nba_copy.columns = nba_copy.columns.str.replace(' ', '_')"
   ]
  },
  {
   "cell_type": "markdown",
   "id": "37e66238-3fd0-4e01-90d2-58d3d7cc4cce",
   "metadata": {},
   "source": [
    "#### Test"
   ]
  },
  {
   "cell_type": "code",
   "execution_count": 30,
   "id": "38aaa990-b68f-4e54-814c-b9b57869a4f7",
   "metadata": {},
   "outputs": [
    {
     "data": {
      "text/plain": [
       "Index(['date', 'opponent', 'result', 'w-l', 'hi_points', 'hi_rebounds',\n",
       "       'hi_assists', 'season', 'post_season_qualification'],\n",
       "      dtype='object')"
      ]
     },
     "execution_count": 30,
     "metadata": {},
     "output_type": "execute_result"
    }
   ],
   "source": [
    "nba_copy.columns"
   ]
  },
  {
   "cell_type": "markdown",
   "id": "315613c1-9a3c-492a-b5fb-2dab6ce6b183",
   "metadata": {},
   "source": [
    "### Quality Issue #2\n",
    "\n",
    "#### Define:\n",
    "\n",
    "- remove characters like vs@ and empty spaces\n",
    "\n",
    "#### Code:"
   ]
  },
  {
   "cell_type": "code",
   "execution_count": 34,
   "id": "8ad72cb2-47ab-4fbd-970a-7b0545bc85c5",
   "metadata": {},
   "outputs": [],
   "source": [
    "nba_copy.opponent = nba_copy.opponent.str.lstrip('vs@ ')\n",
    "nba_copy.opponent.replace({'LA': 'Los Angeles'}, inplace=True)"
   ]
  },
  {
   "cell_type": "markdown",
   "id": "87956a10-9115-4249-8d47-7a2d88f3a7df",
   "metadata": {},
   "source": [
    "#### Test"
   ]
  },
  {
   "cell_type": "code",
   "execution_count": 35,
   "id": "b2ee9674-9e02-40f8-b7bf-136b685dd807",
   "metadata": {},
   "outputs": [
    {
     "data": {
      "text/plain": [
       "array(['Houston', 'Los Angeles', 'Memphis', 'Utah', 'Detroit', 'Toronto',\n",
       "       'New York', 'Chicago', 'Milwaukee', 'Denver', 'Minnesota',\n",
       "       'San Antonio', 'Phoenix', 'Oklahoma City', 'Dallas', 'Miami',\n",
       "       'Portland', 'Sacramento', 'Philadelphia', 'Atlanta', 'Charlotte',\n",
       "       'Orlando', 'New Orleans', 'Cleveland', 'New Jersey', 'Indiana',\n",
       "       'Boston', 'Washington', 'Brooklyn'], dtype=object)"
      ]
     },
     "execution_count": 35,
     "metadata": {},
     "output_type": "execute_result"
    }
   ],
   "source": [
    "nba_copy.opponent.unique()"
   ]
  },
  {
   "cell_type": "markdown",
   "id": "a181a074-6987-43c1-a862-01940b8d9bf5",
   "metadata": {},
   "source": [
    "### Tidiness Issue #1\n",
    "\n",
    "#### Defining:\n",
    "\n",
    "- split Hi Points into two columns\n",
    "\n",
    "#### Code:"
   ]
  },
  {
   "cell_type": "code",
   "execution_count": 36,
   "id": "3aa6da7a-f39d-48b0-baf3-e37f94abb865",
   "metadata": {},
   "outputs": [],
   "source": [
    "nba_copy[['hi_points_player', 'hi_points_scored']] = nba_copy.hi_points.str.split('  ', n=-1, expand=True)"
   ]
  },
  {
   "cell_type": "markdown",
   "id": "38f925ec-353e-460f-9f0f-fbeb7843ad28",
   "metadata": {},
   "source": [
    "#### Test"
   ]
  },
  {
   "cell_type": "code",
   "execution_count": 37,
   "id": "cac70322-ea3a-4526-8db5-30aa834bb7f0",
   "metadata": {},
   "outputs": [
    {
     "data": {
      "text/html": [
       "<div>\n",
       "<style scoped>\n",
       "    .dataframe tbody tr th:only-of-type {\n",
       "        vertical-align: middle;\n",
       "    }\n",
       "\n",
       "    .dataframe tbody tr th {\n",
       "        vertical-align: top;\n",
       "    }\n",
       "\n",
       "    .dataframe thead th {\n",
       "        text-align: right;\n",
       "    }\n",
       "</style>\n",
       "<table border=\"1\" class=\"dataframe\">\n",
       "  <thead>\n",
       "    <tr style=\"text-align: right;\">\n",
       "      <th></th>\n",
       "      <th>date</th>\n",
       "      <th>opponent</th>\n",
       "      <th>result</th>\n",
       "      <th>w-l</th>\n",
       "      <th>hi_points</th>\n",
       "      <th>hi_rebounds</th>\n",
       "      <th>hi_assists</th>\n",
       "      <th>season</th>\n",
       "      <th>post_season_qualification</th>\n",
       "      <th>hi_points_player</th>\n",
       "      <th>hi_points_scored</th>\n",
       "    </tr>\n",
       "  </thead>\n",
       "  <tbody>\n",
       "    <tr>\n",
       "      <th>0</th>\n",
       "      <td>Thu, 28 Oct</td>\n",
       "      <td>Houston</td>\n",
       "      <td>W132-128</td>\n",
       "      <td>1-0</td>\n",
       "      <td>Ellis  46</td>\n",
       "      <td>Lee  15</td>\n",
       "      <td>Curry  11</td>\n",
       "      <td>2010/2011</td>\n",
       "      <td>not qualified</td>\n",
       "      <td>Ellis</td>\n",
       "      <td>46</td>\n",
       "    </tr>\n",
       "    <tr>\n",
       "      <th>1</th>\n",
       "      <td>Sat, 30 Oct</td>\n",
       "      <td>Los Angeles</td>\n",
       "      <td>W109-91</td>\n",
       "      <td>2-0</td>\n",
       "      <td>Wright  24</td>\n",
       "      <td>Lee  12</td>\n",
       "      <td>Ellis  11</td>\n",
       "      <td>2010/2011</td>\n",
       "      <td>not qualified</td>\n",
       "      <td>Wright</td>\n",
       "      <td>24</td>\n",
       "    </tr>\n",
       "  </tbody>\n",
       "</table>\n",
       "</div>"
      ],
      "text/plain": [
       "          date     opponent    result  w-l   hi_points hi_rebounds hi_assists  \\\n",
       "0  Thu, 28 Oct      Houston  W132-128  1-0   Ellis  46     Lee  15  Curry  11   \n",
       "1  Sat, 30 Oct  Los Angeles   W109-91  2-0  Wright  24     Lee  12  Ellis  11   \n",
       "\n",
       "      season post_season_qualification hi_points_player hi_points_scored  \n",
       "0  2010/2011             not qualified            Ellis               46  \n",
       "1  2010/2011             not qualified           Wright               24  "
      ]
     },
     "execution_count": 37,
     "metadata": {},
     "output_type": "execute_result"
    }
   ],
   "source": [
    "nba_copy.head(2)"
   ]
  },
  {
   "cell_type": "markdown",
   "id": "9f224b07-083e-4afe-a534-b96a1bfc33f7",
   "metadata": {},
   "source": [
    "### Tidiness Issue #2\n",
    "\n",
    "#### Define:\n",
    "\n",
    "- drop unnecessary columns\n",
    "\n",
    "#### Code:"
   ]
  },
  {
   "cell_type": "code",
   "execution_count": 38,
   "id": "9d90b2f2-a007-4e1d-9b76-37cbfeecdad3",
   "metadata": {},
   "outputs": [],
   "source": [
    "nba_copy.drop(columns=['hi_points', 'post_season_qualification'], axis=1, inplace=True)"
   ]
  },
  {
   "cell_type": "markdown",
   "id": "d8b88e71-c2af-433a-ac51-007c2bcfda93",
   "metadata": {},
   "source": [
    "#### Test"
   ]
  },
  {
   "cell_type": "code",
   "execution_count": 39,
   "id": "33a4c37c-d1bd-4090-807d-e5c3ba456187",
   "metadata": {},
   "outputs": [
    {
     "data": {
      "text/plain": [
       "Index(['date', 'opponent', 'result', 'w-l', 'hi_rebounds', 'hi_assists',\n",
       "       'season', 'hi_points_player', 'hi_points_scored'],\n",
       "      dtype='object')"
      ]
     },
     "execution_count": 39,
     "metadata": {},
     "output_type": "execute_result"
    }
   ],
   "source": [
    "nba_copy.columns"
   ]
  },
  {
   "cell_type": "markdown",
   "id": "a765b187-9962-4523-a042-1cbe25232e76",
   "metadata": {},
   "source": [
    "## Storing Dataset"
   ]
  },
  {
   "cell_type": "code",
   "execution_count": 40,
   "id": "34f716d0-cac9-4aca-a913-4de4f42ab880",
   "metadata": {},
   "outputs": [],
   "source": [
    "# save data to new csv file\n",
    "nba_copy.to_csv('data/nba_gsw_cleaned.csv', index=False)"
   ]
  },
  {
   "cell_type": "code",
   "execution_count": null,
   "id": "3d6cf0f1-e334-47a8-813c-db9712e13b4c",
   "metadata": {},
   "outputs": [],
   "source": []
  }
 ],
 "metadata": {
  "kernelspec": {
   "display_name": "Python 3",
   "language": "python",
   "name": "python3"
  },
  "language_info": {
   "codemirror_mode": {
    "name": "ipython",
    "version": 3
   },
   "file_extension": ".py",
   "mimetype": "text/x-python",
   "name": "python",
   "nbconvert_exporter": "python",
   "pygments_lexer": "ipython3",
   "version": "3.8.8"
  }
 },
 "nbformat": 4,
 "nbformat_minor": 5
}
